{
 "cells": [
  {
   "cell_type": "markdown",
   "metadata": {},
   "source": [
    "# Vanishing and Exploding Gradients"
   ]
  },
  {
   "cell_type": "markdown",
   "metadata": {},
   "source": [
    "## Exploding Gradients"
   ]
  },
  {
   "cell_type": "code",
   "execution_count": 1,
   "metadata": {},
   "outputs": [
    {
     "name": "stdout",
     "output_type": "stream",
     "text": [
      "A single Matrix \n",
      "[[ 1.1630785   0.4838046   0.29956347  0.15302546]\n",
      " [-1.1688148   1.558071   -0.5459446  -2.3556297 ]\n",
      " [ 0.54144025  2.6785064   1.2546344  -0.54877406]\n",
      " [-0.68106437 -0.1353156   0.37723133  0.41016456]]\n",
      "<NDArray 4x4 @cpu(0)>\n",
      "After multiplying 100 matrices \n",
      "[[-4.3623116e+23  2.7321869e+23  2.7285193e+22  1.4412908e+23]\n",
      " [-2.6033628e+24  1.6305285e+24  1.6283406e+23  8.6014091e+23]\n",
      " [-2.0975532e+24  1.3137320e+24  1.3119681e+23  6.9302349e+23]\n",
      " [ 6.1649062e+23 -3.8611817e+23 -3.8559969e+22 -2.0368610e+23]]\n",
      "<NDArray 4x4 @cpu(0)>\n"
     ]
    }
   ],
   "source": [
    "from mxnet import nd\n",
    "\n",
    "M = nd.random.normal(shape=(4, 4))\n",
    "print('A single Matrix', M)\n",
    "for i in range(100):\n",
    "    M = nd.dot(M, nd.random.normal(shape=(4, 4)))\n",
    "    \n",
    "print('After multiplying 100 matrices', M)"
   ]
  },
  {
   "cell_type": "markdown",
   "metadata": {},
   "source": [
    "## Vanishing Gradients"
   ]
  },
  {
   "cell_type": "markdown",
   "metadata": {},
   "source": [
    "The gradient of sigmoid vanishes for very large or very small arguments. Due to the chain rule, this means that unless we are in the range between the Goldilocks zone, the gradients of the overall product may vanish. When we have many layers this is likely to happen for *some* layers."
   ]
  },
  {
   "cell_type": "code",
   "execution_count": 5,
   "metadata": {},
   "outputs": [
    {
     "data": {
      "image/png": "[encoded data removed]",
      "text/plain": [
       "<Figure size 576x288 with 1 Axes>"
      ]
     },
     "metadata": {
      "needs_background": "light"
     },
     "output_type": "display_data"
    }
   ],
   "source": [
    "from mxnet import autograd\n",
    "import matplotlib.pyplot as plt\n",
    "\n",
    "x = nd.arange(-8.0, 8.0, 0.1)\n",
    "x.attach_grad()\n",
    "with autograd.record():\n",
    "    y = x.sigmoid()\n",
    "y.backward()\n",
    "\n",
    "plt.figure(figsize=(8, 4))\n",
    "plt.plot(x.asnumpy(), y.asnumpy())\n",
    "plt.plot(x.asnumpy(), x.grad.asnumpy())\n",
    "plt.legend(['sigmoid', 'gradient'])\n",
    "plt.show()"
   ]
  },
  {
   "cell_type": "markdown",
   "metadata": {},
   "source": [
    "## Symmetry"
   ]
  },
  {
   "cell_type": "markdown",
   "metadata": {},
   "source": [
    "Neural network layers has pernutation symmetry between the hidden units. If we initialize all weights in a layer with the same value, the hidden layer behaves as if it only a single unit."
   ]
  },
  {
   "cell_type": "markdown",
   "metadata": {},
   "source": [
    "# Parameter Initialization"
   ]
  },
  {
   "cell_type": "markdown",
   "metadata": {},
   "source": [
    "## Default Initialization "
   ]
  },
  {
   "cell_type": "markdown",
   "metadata": {},
   "source": [
    "MXNet default random initialization method is that each element of the weight parameter is randomly sampled with an uniform distribution $U[-0.07, 0.07]$ and the bias parameters are all set to $0$."
   ]
  },
  {
   "cell_type": "markdown",
   "metadata": {},
   "source": [
    "## Xavier Initialization"
   ]
  },
  {
   "cell_type": "markdown",
   "metadata": {},
   "source": [
    "For Gaussian random variables the Xavier initialization picks a normal distribution with zero mean and variance $\\sigma^2 = 2 / (n_\\mathrm{in} + n_\\mathrm{out})$. For uniformly distributed random variables $U[-a, a]$, we should initialize uniformly with $U\\left[-\\sqrt{6/(n_\\mathrm{in} + n_\\mathrm{out})}, \\sqrt{6/(n_\\mathrm{in} + n_\\mathrm{out})}\\right]$"
   ]
  },
  {
   "cell_type": "markdown",
   "metadata": {},
   "source": [
    "# Problems"
   ]
  },
  {
   "cell_type": "markdown",
   "metadata": {},
   "source": [
    "1. Can you design other cases of symmetry breaking besides the permutation symmetry?"
   ]
  },
  {
   "cell_type": "code",
   "execution_count": null,
   "metadata": {},
   "outputs": [],
   "source": []
  },
  {
   "cell_type": "markdown",
   "metadata": {},
   "source": [
    "2. Can we initialize all weight parameters in linear regression or in softmax regression to the same value?"
   ]
  },
  {
   "cell_type": "code",
   "execution_count": null,
   "metadata": {},
   "outputs": [],
   "source": []
  },
  {
   "cell_type": "markdown",
   "metadata": {},
   "source": [
    "3. Look up analytic bounds on the eigenvalues of the product of two matrices. What does this tell you about ensuring that gradients are well conditioned?"
   ]
  },
  {
   "cell_type": "code",
   "execution_count": null,
   "metadata": {},
   "outputs": [],
   "source": []
  },
  {
   "cell_type": "markdown",
   "metadata": {},
   "source": [
    "4. If we know that some terms diverge, can we fix this after the fact? Look at the paper on LARS by [You, Gitman and Ginsburg, 2017](https://arxiv.org/pdf/1708.03888.pdf) for inspiration."
   ]
  },
  {
   "cell_type": "code",
   "execution_count": null,
   "metadata": {},
   "outputs": [],
   "source": []
  }
 ],
 "metadata": {
  "kernelspec": {
   "display_name": "Python 3",
   "language": "python",
   "name": "python3"
  },
  "language_info": {
   "codemirror_mode": {
    "name": "ipython",
    "version": 3
   },
   "file_extension": ".py",
   "mimetype": "text/x-python",
   "name": "python",
   "nbconvert_exporter": "python",
   "pygments_lexer": "ipython3",
   "version": "3.7.1"
  }
 },
 "nbformat": 4,
 "nbformat_minor": 2
}
