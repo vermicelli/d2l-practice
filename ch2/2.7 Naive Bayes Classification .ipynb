{
 "cells": [
  {
   "cell_type": "markdown",
   "metadata": {},
   "source": [
    "In the naive Bayes classifier, the key assumption we have here is that the attributes are all independent of each other, given the lables.\n",
    "$$p(\\mathbf{x} | y) = \\prod_i p(x_i | y)$$\n",
    "Using Bayes Theorem, this leads to the classifier:\n",
    "$$p(y | \\mathbf{x}) = \\frac{\\prod_i p(x_i | y) p(y)}{p(\\mathbf{x})}$$"
   ]
  },
  {
   "cell_type": "markdown",
   "metadata": {},
   "source": [
    "# Optical Character Recognition "
   ]
  },
  {
   "cell_type": "markdown",
   "metadata": {},
   "source": [
    "We apply the Bayes Classifier to MNIST dataset here. To use this classifier, we need to know $p(y)$ and $p(x_i | y)$. We estimate these two value by using the training data.\n",
    "\n",
    "To estimate $p(y)$, just count the number of occurrences $n_y$ for each label. \n",
    "\n",
    "To estimate $p(x_i | y)$, we need count the number of times $n_{iy}$ that pixle $i$ switched on for class $y$ and divide it by the total number of the occurrences of $y$."
   ]
  },
  {
   "cell_type": "code",
   "execution_count": 1,
   "metadata": {},
   "outputs": [],
   "source": [
    "import matplotlib.pyplot as plt\n",
    "import mxnet as mx\n",
    "from mxnet import nd\n",
    "import numpy as np"
   ]
  },
  {
   "cell_type": "code",
   "execution_count": 2,
   "metadata": {},
   "outputs": [
    {
     "name": "stdout",
     "output_type": "stream",
     "text": [
      "Downloading /Users/fengsi/.mxnet/datasets/mnist/train-images-idx3-ubyte.gz from https://apache-mxnet.s3-accelerate.dualstack.amazonaws.com/gluon/dataset/mnist/train-images-idx3-ubyte.gz...\n",
      "Downloading /Users/fengsi/.mxnet/datasets/mnist/train-labels-idx1-ubyte.gz from https://apache-mxnet.s3-accelerate.dualstack.amazonaws.com/gluon/dataset/mnist/train-labels-idx1-ubyte.gz...\n",
      "Downloading /Users/fengsi/.mxnet/datasets/mnist/t10k-images-idx3-ubyte.gz from https://apache-mxnet.s3-accelerate.dualstack.amazonaws.com/gluon/dataset/mnist/t10k-images-idx3-ubyte.gz...\n",
      "Downloading /Users/fengsi/.mxnet/datasets/mnist/t10k-labels-idx1-ubyte.gz from https://apache-mxnet.s3-accelerate.dualstack.amazonaws.com/gluon/dataset/mnist/t10k-labels-idx1-ubyte.gz...\n"
     ]
    }
   ],
   "source": [
    "def transform(data, label):\n",
    "    return (nd.floor(data / 128)).astype(np.float32), label.astype(np.float32)\n",
    "\n",
    "mnist_train = mx.gluon.data.vision.MNIST(train=True, transform=transform)\n",
    "mnist_test = mx.gluon.data.vision.MNIST(train=False, transform=transform)\n",
    "\n",
    "xcount = nd.ones((784, 10))\n",
    "ycount = nd.ones((10,))\n",
    "\n",
    "for data, label in mnist_train:\n",
    "    y = int(label)\n",
    "    xcount[:, y] += data.reshape((784,))\n",
    "    ycount[y] += 1\n",
    "    \n",
    "py = ycount / ycount.sum()\n",
    "px = xcount / ycount.reshape((1, 10))"
   ]
  },
  {
   "cell_type": "markdown",
   "metadata": {},
   "source": [
    "Plot the counts array as images:"
   ]
  },
  {
   "cell_type": "code",
   "execution_count": 8,
   "metadata": {},
   "outputs": [
    {
     "data": {
      "image/png": "[encoded data removed]",
      "text/plain": [
       "<Figure size 720x720 with 10 Axes>"
      ]
     },
     "metadata": {
      "needs_background": "light"
     },
     "output_type": "display_data"
    },
    {
     "name": "stdout",
     "output_type": "stream",
     "text": [
      "Class probabilities \n",
      "[0.09871688 0.11236461 0.09930012 0.10218297 0.09736711 0.09035161\n",
      " 0.09863356 0.10441593 0.09751708 0.09915014]\n",
      "<NDArray 10 @cpu(0)>\n"
     ]
    }
   ],
   "source": [
    "fig, figarr = plt.subplots(1, 10, figsize=(10, 10))\n",
    "for i in range(10):\n",
    "    figarr[i].imshow(xcount[:, i].reshape((28, 28)).asnumpy(), cmap='hot')\n",
    "    figarr[i].axes.get_xaxis().set_visible(False)\n",
    "    figarr[i].axes.get_yaxis().set_visible(False)\n",
    "plt.show()\n",
    "print('Class probabilities', py)"
   ]
  },
  {
   "cell_type": "markdown",
   "metadata": {},
   "source": [
    "We have all probabilities we need to make a prediction. But we can't use $p(\\mathbf{x} | y) = \\prod_i p(x_i | y)$ to calculate $p(\\mathbf{x} | y)$ directly because we will face the **numerical underflow** problem when we multiply too much small numbers (probabilities) together.\n",
    "\n",
    "To get around this, we can calculate in log-space. "
   ]
  },
  {
   "cell_type": "code",
   "execution_count": 27,
   "metadata": {},
   "outputs": [
    {
     "data": {
      "image/png": "[encoded data removed]",
      "text/plain": [
       "<Figure size 720x216 with 20 Axes>"
      ]
     },
     "metadata": {
      "needs_background": "light"
     },
     "output_type": "display_data"
    }
   ],
   "source": [
    "logpx = nd.log(px)\n",
    "logpxneg = nd.log(1 - px)\n",
    "logpy = nd.log(py)\n",
    "\n",
    "def bayespost(data):\n",
    "    logpost = logpy.copy()\n",
    "    logpost += (logpx * data + logpxneg * (1 - data)).sum(0)\n",
    "    logpost -= nd.max(logpost)\n",
    "    post = nd.exp(logpost).asnumpy()\n",
    "    post /= np.sum(post)\n",
    "    return post\n",
    "\n",
    "fig, figarr = plt.subplots(2, 10, figsize=(10, 3))\n",
    "\n",
    "cnt = 0\n",
    "for data, label in mnist_test:\n",
    "    x = data.reshape((784, 1))\n",
    "    y = int(label)\n",
    "    \n",
    "    post = bayespost(x)\n",
    "    \n",
    "    figarr[0, cnt].imshow(x.reshape((28, 28)).asnumpy())\n",
    "    figarr[0, cnt].axes.get_xaxis().set_visible(False)\n",
    "    figarr[0, cnt].axes.get_yaxis().set_visible(False)\n",
    "    figarr[1, cnt].bar(range(10), post)\n",
    "    figarr[1, cnt].axes.get_yaxis().set_visible(False)\n",
    "    \n",
    "    cnt += 1\n",
    "    \n",
    "    if cnt == 10:\n",
    "        break\n",
    "\n",
    "plt.show()"
   ]
  },
  {
   "cell_type": "code",
   "execution_count": 29,
   "metadata": {},
   "outputs": [
    {
     "name": "stdout",
     "output_type": "stream",
     "text": [
      "Naive Bayes has an error rate of 0.1574\n"
     ]
    }
   ],
   "source": [
    "ctr = 0\n",
    "err = 0\n",
    "\n",
    "for data, label in mnist_test:\n",
    "    ctr += 1\n",
    "    x = data.reshape((784, 1))\n",
    "    y = int(label)\n",
    "    \n",
    "    post = bayespost(x)\n",
    "    if (post[y] < post.max()):\n",
    "        err += 1\n",
    "        \n",
    "print('Naive Bayes has an error rate of', err/ctr)"
   ]
  },
  {
   "cell_type": "markdown",
   "metadata": {},
   "source": [
    "# Problems "
   ]
  },
  {
   "cell_type": "markdown",
   "metadata": {},
   "source": [
    "1. Design a Naive Bayes regression estimator where $p(x_i | y)$ is a normal distribution."
   ]
  },
  {
   "cell_type": "code",
   "execution_count": null,
   "metadata": {},
   "outputs": [],
   "source": []
  },
  {
   "cell_type": "markdown",
   "metadata": {},
   "source": [
    "2. Under which situations does Naive Bayes work?"
   ]
  },
  {
   "cell_type": "code",
   "execution_count": null,
   "metadata": {},
   "outputs": [],
   "source": []
  },
  {
   "cell_type": "markdown",
   "metadata": {},
   "source": [
    "3. An eyewitness is sure that he could recognize the perpetrator with 90% accuracy, if he were to encounter him again.\n",
    "    * Is this a useful statement if there are only 5 suspects?\"\n",
    "    * Is it still useful if there are 50?"
   ]
  },
  {
   "cell_type": "code",
   "execution_count": null,
   "metadata": {},
   "outputs": [],
   "source": []
  }
 ],
 "metadata": {
  "kernelspec": {
   "display_name": "Python 3",
   "language": "python",
   "name": "python3"
  },
  "language_info": {
   "codemirror_mode": {
    "name": "ipython",
    "version": 3
   },
   "file_extension": ".py",
   "mimetype": "text/x-python",
   "name": "python",
   "nbconvert_exporter": "python",
   "pygments_lexer": "ipython3",
   "version": "3.7.2"
  }
 },
 "nbformat": 4,
 "nbformat_minor": 2
}
